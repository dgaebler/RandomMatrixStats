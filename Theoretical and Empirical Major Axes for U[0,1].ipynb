{
 "cells": [
  {
   "cell_type": "markdown",
   "metadata": {},
   "source": [
    "## Major Axis--Theory\n",
    "\n",
    "This recapitulates work in C. J.'s thesis and paper. Breaking into elementary steps, we can define the random variables\n",
    "\\begin{align*}\n",
    "\\alpha &= a-d \\\\\n",
    "\\beta &= b+c \\\\\n",
    "\\zeta &= \\alpha^2 \\\\\n",
    "\\eta &= \\beta^2 \\\\\n",
    "\\theta &= \\eta + \\zeta \\\\\n",
    "\\omega &= \\sqrt{\\theta}\n",
    "\\end{align*}\n",
    "and successively apply rules for either the sum/difference of two random variables, or the composition of a random variable with a real function."
   ]
  },
  {
   "cell_type": "markdown",
   "metadata": {},
   "source": [
    "### CDF and PDF of $\\alpha = a-d$\n",
    "For $-1 \\leq t \\leq 1$, $F_\\alpha(t) = P(a-d \\leq t)$ is the region in the unit square of the $a,d$-plane (with $a$ as the horizontal axis) above left of the line $a-d = t$.  In case $-1 \\leq t \\leq 0$ this is an isosceles right triangle with leg $1+t$, while for $0 \\leq t \\leq 1$ it is the square minus an isosceles right triangle of leg $1-t$.  Hence\n",
    "$$\n",
    "F_\\alpha(t) = \\begin{cases} \\dfrac{(1+t)^2}{2} & -1 \\leq t \\leq 0 \\\\ 1 - \\dfrac{(1-t)^2}{2} &0 \\leq t \\leq 1. \\end{cases}\n",
    "$$\n",
    "Differentiating yields\n",
    "$$\n",
    "f_\\alpha(t) = F_\\alpha'(t) = \\begin{cases} 1+t & -1 \\leq t \\leq 0 \\\\ 1-t & 0 \\leq t \\leq 1 \\end{cases} = 1-|t|\n",
    "$$\n",
    "which is a **triangular** distribution."
   ]
  },
  {
   "cell_type": "markdown",
   "metadata": {},
   "source": [
    "### PDF of $|\\alpha| = |a-d|$\n",
    "When we need to invert the square below, we will consider $|\\alpha|$ as well as $\\alpha$.  Because $f_\\alpha$ is even, we can find $f_{|\\alpha|}$ using symmetry: For a given value of $|\\alpha|$, it will equally likely come from positive and negative values, leading to\n",
    "$$\n",
    "f_{|\\alpha|}(t) = 2(1-t), \\qquad 0 \\leq t \\leq 1.\n",
    "$$"
   ]
  },
  {
   "cell_type": "markdown",
   "metadata": {},
   "source": [
    "### CDF and PDF of $\\beta = b+c$\n",
    "For $0 \\leq t \\leq 2$, $F_\\beta(t) = P(b+c \\leq t) = \\underset{b+c \\leq t}{\\iint} 1 \\, dc \\, db$ is the region in the unit square in the $b,c$-plane below and left of the line $b+c=t$.  In case $t \\leq 1$ this is an isosceles right triangle with legs of length $t$, while for $t \\leq 1$ it is the square minus an isosceles right triangle with legs $2-t$.  Hence\n",
    "$$\n",
    "F_\\beta(t) = \\begin{cases} \\dfrac{t^2}{2} & 0 \\leq t \\leq 1 \\\\ 1 - \\dfrac{(2-t)^2}{2} & 1 \\leq t \\leq 2. \\end{cases}\n",
    "$$\n",
    "Differentiating yields the probability density function\n",
    "$$\n",
    "f_\\beta(t) = F_\\beta'(t) = \\begin{cases} t & 0 \\leq t \\leq 1 \\\\ 2-t & 1 \\leq t \\leq 2 \\end{cases}\n",
    "$$\n",
    "which is another **triangular** distribution.  Wikipedia notes that this is the $n=2$ case of the **Irwin-Hall distribution,** which describes a sum of $n$ uniform iid random variables.  It can also be written as $f_\\beta(t) = 1-|1-t|$."
   ]
  },
  {
   "cell_type": "markdown",
   "metadata": {},
   "source": [
    "### PDF of $\\zeta = (a-d)^2$\n",
    "With $\\zeta = \\alpha^2$, we can invert to $|\\alpha| = \\sqrt{\\zeta}$ and therefore $\\frac{d |\\alpha|}{d\\zeta} = \\dfrac{1}{2 \\sqrt{\\zeta}}$.  The standard formula for a function of a random variable then yields\n",
    "$$\n",
    "f_\\zeta(t) = \\dfrac{1}{2 \\sqrt{t}} f_{|\\alpha|}(\\sqrt{t}) = \\dfrac{2(1-\\sqrt{t})}{2\\sqrt{t}} = \\dfrac{1}{\\sqrt{t}}-1, \\qquad 0 \\leq t \\leq 1.\n",
    "$$\n"
   ]
  },
  {
   "cell_type": "markdown",
   "metadata": {},
   "source": [
    "### PDF of $\\eta = (b+c)^2$\n",
    "With $\\eta = \\beta^2$ and $\\beta$ nonnegative, we can invert to $\\beta = \\sqrt{\\eta}$ so $\\frac{d \\beta}{d\\eta} = \\frac{1}{2 \\sqrt{\\eta}}$.  By the function-of-random-variable formula again,\n",
    "$$\n",
    "f_\\eta(t) = \\dfrac{1}{2 \\sqrt{t}} f_\\beta(\\sqrt{t}) = \\dfrac{1-|1-\\sqrt{t}|}{2 \\sqrt{t}} = \\begin{cases} \\dfrac{1}{2} & 0 \\leq t \\leq 1 \\\\ \\dfrac{1}{\\sqrt{t}} - \\dfrac{1}{2} & 1 \\leq t \\leq 4. \\end{cases}\n",
    "$$"
   ]
  },
  {
   "cell_type": "markdown",
   "metadata": {},
   "source": [
    "### CDF and PDF of $\\theta = (a-d)^2 + (b+c)^2$\n",
    "Since $a,b,c,d$ are independent, it follows that $(a-d)^2$ and $(b+c)^2$ are independent, so the PDF of their sum is the convolution of their PDF's.  Since they both have finite support and these supports are different, though, it may be easier to work things out from scratch.\n",
    "\n",
    "The joint support of $\\theta$ consists of a $1 \\times 4$ rectangle in the $\\zeta, \\eta$-plane.  For $0 \\leq t \\leq 5$ one has\n",
    "$$\n",
    "F_\\theta(t) = \\underset{\\zeta + \\eta \\leq t}{\\iint} f_\\zeta(\\zeta) f_\\eta(\\eta) \\, d\\zeta \\, d\\eta.\n",
    "$$\n",
    "We distinguish three cases.\n",
    "- Case 1: $0 \\leq t \\leq 1$.  In this case the region in the rectangle and below the line $\\zeta + \\eta = t$ is a triangle described by the inequalities $0 \\leq \\eta \\leq t$ and $0 \\leq \\zeta \\leq t-\\zeta$.  So\n",
    "$$\n",
    "F_\\theta(t) = \\int_0^t \\int_0^{t-\\eta} \\left(\\dfrac{1}{\\sqrt{\\zeta}} - 1 \\right) \\left(\\dfrac{1}{2} \\right) \\, d\\zeta \\, d\\eta = \\dfrac{2}{3} t^{3/2} - \\dfrac{1}{4} t^2 \\quad \\Rightarrow \\quad f_\\theta(t) = \\sqrt{t} - \\dfrac{1}{2} t.\n",
    "$$\n",
    "Note also the special value $F_\\theta(1) = \\dfrac{5}{12}$."
   ]
  },
  {
   "cell_type": "code",
   "execution_count": 1,
   "metadata": {},
   "outputs": [],
   "source": [
    "var('t')\n",
    "region_1_pdf = sqrt(t)-t/2"
   ]
  },
  {
   "cell_type": "markdown",
   "metadata": {},
   "source": [
    "- Case 2: $1 \\leq t \\leq 2$.  In this case the region $\\zeta + \\eta \\leq t$ contains four sub-regions:\n",
    "- (a) The unit right triangle with vertices $(0,0)$ and $(1,0)$ and $(0,1)$.  The probability of a sample in this triangle is the constant value $F_\\theta(1) = \\frac{5}{12}$ computed above.\n",
    "- (b) The right triangle with vertices $(1,0)$ and $(1,t-1)$ and $(2-t,t-1)$ described by the inequalities $0 \\leq \\eta \\leq t-1$ and $1-\\eta \\leq \\zeta \\leq 1$.\n",
    "- (c) The parallelogram with vertices $(2-t, t-1)$ and $(1, t-1)$ and $(t-1,1)$ and $(0,1)$ described by the inequalities $t-1 \\leq \\eta \\leq 1$ and $1-\\eta \\leq \\zeta \\leq t-\\eta$.\n",
    "- (d) The right trinagle with vertices $(0,1)$ and $(t-1,1)$ and $(0,t-1)$.\n",
    "Note that in region (d) the function $f_\\eta(\\eta)$ becomes variable, while on (a)-(c) it has the constant value $1/2$.\n",
    "\n",
    "\n",
    "Hence, in Case 2 we have\n",
    "$$\n",
    "F_\\theta(t) = F(1) + \\int_0^{t-1} \\int_{1-\\eta}^1 \\left(\\dfrac{1}{\\sqrt{\\zeta}} - 1 \\right) \\left(\\dfrac{1}{2} \\right) \\, d\\zeta \\, d\\eta + \\int_{t-1}^1 \\int_{1-\\eta}^{t-\\eta} \\left(\\dfrac{1}{\\sqrt{\\zeta}} - 1 \\right) \\left(\\dfrac{1}{2} \\right) \\, d\\zeta \\, d\\eta + \\int_1^t \\int_0^{t-\\eta}  \\left(\\dfrac{1}{\\sqrt{\\zeta}} - 1 \\right) \\left(\\dfrac{1}{\\sqrt{\\eta}}-\\dfrac{1}{2} \\right) \\, d\\zeta \\, d\\eta \n",
    "$$\n",
    "which is evaluated below."
   ]
  },
  {
   "cell_type": "code",
   "execution_count": 2,
   "metadata": {},
   "outputs": [
    {
     "data": {
      "text/html": [
       "<html><script type=\"math/tex; mode=display\">\\newcommand{\\Bold}[1]{\\mathbf{#1}}\\frac{1}{2} \\, t^{2} + \\frac{1}{2} \\, t {\\left(4 \\, \\arctan\\left(\\sqrt{t - 1}\\right) + 3\\right)} - \\frac{2}{3} \\, {\\left(t + 2\\right)} \\sqrt{t - 1} - \\frac{2}{3} \\, {\\left(t - 1\\right)}^{\\frac{3}{2}} - \\frac{4}{3} \\, t^{\\frac{3}{2}} - \\frac{1}{4}</script></html>"
      ],
      "text/plain": [
       "1/2*t^2 + 1/2*t*(4*arctan(sqrt(t - 1)) + 3) - 2/3*(t + 2)*sqrt(t - 1) - 2/3*(t - 1)^(3/2) - 4/3*t^(3/2) - 1/4"
      ]
     },
     "metadata": {},
     "output_type": "display_data"
    }
   ],
   "source": [
    "from sage.symbolic.integration.integral import definite_integral\n",
    "var('zeta eta t')\n",
    "assume(t>1)\n",
    "assume(t<2)\n",
    "assume(eta>0)\n",
    "assume(eta<t)\n",
    "assume(zeta>0)\n",
    "region_2a = 5/12\n",
    "region_2b = definite_integral(definite_integral((1/sqrt(zeta)-1)*1/2,zeta,1-eta,1),eta,0,t-1)\n",
    "region_2c = definite_integral(definite_integral((1/sqrt(zeta)-1)*(1/2),zeta,1-eta,t-eta),eta,t-1,1)\n",
    "region_2d = definite_integral(definite_integral((1/sqrt(zeta)-1)*(1/sqrt(eta)-1/2),zeta,0,t-eta),eta,1,t)\n",
    "region_2_cdf = region_2a + region_2b + region_2c + region_2d\n",
    "region_2_pdf = region_2_cdf.derivative(t)\n",
    "region_2_cdf.show()"
   ]
  },
  {
   "cell_type": "code",
   "execution_count": 3,
   "metadata": {},
   "outputs": [
    {
     "data": {
      "text/html": [
       "<html><script type=\"math/tex; mode=display\">\\newcommand{\\Bold}[1]{\\mathbf{#1}}t - 2 \\, \\sqrt{t - 1} - 2 \\, \\sqrt{t} + 2 \\, \\arctan\\left(\\sqrt{t - 1}\\right) + \\frac{3}{2}</script></html>"
      ],
      "text/plain": [
       "t - 2*sqrt(t - 1) - 2*sqrt(t) + 2*arctan(sqrt(t - 1)) + 3/2"
      ]
     },
     "metadata": {},
     "output_type": "display_data"
    }
   ],
   "source": [
    "(region_2_pdf.full_simplify()).show()"
   ]
  },
  {
   "cell_type": "code",
   "execution_count": 4,
   "metadata": {},
   "outputs": [
    {
     "data": {
      "text/html": [
       "<html><script type=\"math/tex; mode=display\">\\newcommand{\\Bold}[1]{\\mathbf{#1}}\\pi - \\frac{8}{3} \\, \\sqrt{2} + \\frac{17}{12}</script></html>"
      ],
      "text/plain": [
       "pi - 8/3*sqrt(2) + 17/12"
      ]
     },
     "metadata": {},
     "output_type": "display_data"
    }
   ],
   "source": [
    "region_2_cdf(t=2).show()"
   ]
  },
  {
   "cell_type": "code",
   "execution_count": 5,
   "metadata": {},
   "outputs": [
    {
     "data": {
      "text/plain": [
       "0.787023153928207"
      ]
     },
     "execution_count": 5,
     "metadata": {},
     "output_type": "execute_result"
    }
   ],
   "source": [
    "region_2_cdf(t=2).n()"
   ]
  },
  {
   "cell_type": "markdown",
   "metadata": {},
   "source": [
    "- Case 3: $2 \\leq t \\leq 4$.  In this case the region $\\zeta + \\eta \\leq t$ consists of the trapezoid $\\zeta + \\eta \\leq 2$, which has the constant probability $F_\\theta(2)$ found above, together with the parallelogram $2 \\leq \\zeta + \\eta \\leq t$, described by the inequalities $0 \\leq \\zeta \\leq 1$ and $2-\\zeta \\leq \\eta \\leq t-\\zeta$.  Hence, in this case\n",
    "$$\n",
    "F_\\theta(t) = F_\\theta(2) + \\int_0^1 \\int_{2-\\zeta}^{t-\\zeta} \\left(\\dfrac{1}{\\sqrt{\\zeta}} - 1 \\right) \\left(\\dfrac{1}{\\sqrt{\\eta}}-\\dfrac{1}{2} \\right) \\, d\\eta \\, d\\zeta \n",
    "$$\n",
    "which is calculated below."
   ]
  },
  {
   "cell_type": "code",
   "execution_count": 6,
   "metadata": {},
   "outputs": [
    {
     "data": {
      "text/html": [
       "<html><script type=\"math/tex; mode=display\">\\newcommand{\\Bold}[1]{\\mathbf{#1}}\\frac{1}{2} \\, {\\left(2 \\, \\pi - 4 \\, \\arctan\\left(\\sqrt{t - 1}\\right) - 1\\right)} t + \\frac{2}{3} \\, {\\left(2 \\, t + 1\\right)} \\sqrt{t - 1} - \\frac{4}{3} \\, t^{\\frac{3}{2}} - \\frac{11}{12}</script></html>"
      ],
      "text/plain": [
       "1/2*(2*pi - 4*arctan(sqrt(t - 1)) - 1)*t + 2/3*(2*t + 1)*sqrt(t - 1) - 4/3*t^(3/2) - 11/12"
      ]
     },
     "metadata": {},
     "output_type": "display_data"
    }
   ],
   "source": [
    "region_3_cdf = region_2_cdf(t=2) + definite_integral(definite_integral((1/sqrt(zeta)-1)*(1/sqrt(eta)-1/2),eta,2-zeta,t-zeta),zeta,0,1)\n",
    "region_3_cdf.show()"
   ]
  },
  {
   "cell_type": "code",
   "execution_count": 7,
   "metadata": {},
   "outputs": [
    {
     "data": {
      "text/html": [
       "<html><script type=\"math/tex; mode=display\">\\newcommand{\\Bold}[1]{\\mathbf{#1}}3 \\, \\pi - 4 \\, \\sqrt{3} + \\frac{14}{3} \\, \\sqrt{2} - 6 \\, \\arctan\\left(\\sqrt{2}\\right) - \\frac{29}{12}</script></html>"
      ],
      "text/plain": [
       "3*pi - 4*sqrt(3) + 14/3*sqrt(2) - 6*arctan(sqrt(2)) - 29/12"
      ]
     },
     "metadata": {},
     "output_type": "display_data"
    }
   ],
   "source": [
    "region_3_cdf(t=3).show()"
   ]
  },
  {
   "cell_type": "code",
   "execution_count": 8,
   "metadata": {},
   "outputs": [
    {
     "data": {
      "text/plain": [
       "0.947671646154593"
      ]
     },
     "execution_count": 8,
     "metadata": {},
     "output_type": "execute_result"
    }
   ],
   "source": [
    "region_3_cdf(t=3).n()"
   ]
  },
  {
   "cell_type": "code",
   "execution_count": 9,
   "metadata": {},
   "outputs": [
    {
     "data": {
      "text/html": [
       "<html><script type=\"math/tex; mode=display\">\\newcommand{\\Bold}[1]{\\mathbf{#1}}\\pi + 2 \\, \\sqrt{t - 1} - 2 \\, \\sqrt{t} - 2 \\, \\arctan\\left(\\sqrt{t - 1}\\right) - \\frac{1}{2}</script></html>"
      ],
      "text/plain": [
       "pi + 2*sqrt(t - 1) - 2*sqrt(t) - 2*arctan(sqrt(t - 1)) - 1/2"
      ]
     },
     "metadata": {},
     "output_type": "display_data"
    }
   ],
   "source": [
    "region_3_pdf = region_3_cdf.derivative(t)\n",
    "(region_3_pdf.full_simplify()).show()"
   ]
  },
  {
   "cell_type": "markdown",
   "metadata": {},
   "source": [
    "- Case 4: $4 \\leq t \\leq 5$.  In this case we find $P(\\theta \\leq t)$ as $1-P(\\theta > t)$, the latter of which is found by integrating over the triangle with vertices $(t-4,4)$ and $(1,4)$ and $(1,t-1)$ described by the inequalities $t-4 \\leq \\zeta \\leq 1$ and $t-\\zeta \\leq \\eta \\leq 4$.  Hence, in this case \n",
    "$$\n",
    "F_\\theta(t) = 1 - \\int_{t-4}^1 \\int_{t-\\zeta}^4 \\left(\\dfrac{1}{\\sqrt{\\zeta}} - 1 \\right) \\left(\\dfrac{1}{\\sqrt{\\eta}}-\\dfrac{1}{2} \\right) \\, d\\eta \\, d\\zeta \n",
    "$$"
   ]
  },
  {
   "cell_type": "code",
   "execution_count": 10,
   "metadata": {},
   "outputs": [
    {
     "data": {
      "text/html": [
       "<html><script type=\"math/tex; mode=display\">\\newcommand{\\Bold}[1]{\\mathbf{#1}}-\\frac{1}{4} \\, t^{2} - \\frac{1}{2} \\, t {\\left(4 \\, \\arctan\\left(\\sqrt{t - 1}\\right) - 4 \\, \\arctan\\left(\\frac{2}{\\sqrt{t - 4}}\\right) + 5\\right)} + \\frac{2}{3} \\, {\\left(2 \\, t + 1\\right)} \\sqrt{t - 1} + \\frac{2}{3} \\, {\\left(t + 2\\right)} \\sqrt{t - 4} + \\frac{5}{12}</script></html>"
      ],
      "text/plain": [
       "-1/4*t^2 - 1/2*t*(4*arctan(sqrt(t - 1)) - 4*arctan(2/sqrt(t - 4)) + 5) + 2/3*(2*t + 1)*sqrt(t - 1) + 2/3*(t + 2)*sqrt(t - 4) + 5/12"
      ]
     },
     "metadata": {},
     "output_type": "display_data"
    }
   ],
   "source": [
    "forget()\n",
    "assume(zeta>0)\n",
    "assume(zeta<1)\n",
    "assume(eta>0)\n",
    "assume(eta<4)\n",
    "assume(t>4)\n",
    "assume(t<5)\n",
    "region_4_cdf = 1 - definite_integral(definite_integral((1/sqrt(zeta)-1)*(1/sqrt(eta)-1/2),eta,t-zeta,4),zeta,t-4,1)\n",
    "region_4_cdf.show()"
   ]
  },
  {
   "cell_type": "code",
   "execution_count": 11,
   "metadata": {},
   "outputs": [
    {
     "data": {
      "text/plain": [
       "1"
      ]
     },
     "execution_count": 11,
     "metadata": {},
     "output_type": "execute_result"
    }
   ],
   "source": [
    "region_4_cdf(t=5)"
   ]
  },
  {
   "cell_type": "code",
   "execution_count": 12,
   "metadata": {},
   "outputs": [
    {
     "data": {
      "text/html": [
       "<html><script type=\"math/tex; mode=display\">\\newcommand{\\Bold}[1]{\\mathbf{#1}}-\\frac{1}{2} \\, t + 2 \\, \\sqrt{t - 1} + \\sqrt{t - 4} - 2 \\, \\arctan\\left(\\sqrt{t - 1}\\right) + 2 \\, \\arctan\\left(\\frac{2}{\\sqrt{t - 4}}\\right) - \\frac{5}{2}</script></html>"
      ],
      "text/plain": [
       "-1/2*t + 2*sqrt(t - 1) + sqrt(t - 4) - 2*arctan(sqrt(t - 1)) + 2*arctan(2/sqrt(t - 4)) - 5/2"
      ]
     },
     "metadata": {},
     "output_type": "display_data"
    }
   ],
   "source": [
    "region_4_pdf = region_4_cdf.derivative(t)\n",
    "(region_4_pdf.full_simplify()).show()"
   ]
  },
  {
   "cell_type": "markdown",
   "metadata": {},
   "source": [
    "### PDF of $\\omega = \\sqrt{(a-d)^2 + (b+c)^2}$\n",
    "With $\\omega = \\sqrt{\\theta}$, we have $\\theta = \\omega^2$ so that $\\frac{d \\theta}{d \\omega} = 2 \\omega$.  \n",
    "Using the formula for a function of a random variable again,\n",
    "$$\n",
    "f_\\omega(t) = 2 t f_\\theta(t^2).\n",
    "$$\n",
    "This inherits the four cases from above:"
   ]
  },
  {
   "cell_type": "code",
   "execution_count": 13,
   "metadata": {},
   "outputs": [
    {
     "data": {
      "text/html": [
       "<html><script type=\"math/tex; mode=display\">\\newcommand{\\Bold}[1]{\\mathbf{#1}}-x^{3} + 2 \\, x^{2}</script></html>"
      ],
      "text/plain": [
       "-x^3 + 2*x^2"
      ]
     },
     "metadata": {},
     "output_type": "display_data"
    }
   ],
   "source": [
    "assume(x>0)\n",
    "f_omega_r1_pdf(x) = 2*x*region_1_pdf(t=x^2)\n",
    "(f_omega_r1_pdf(x).full_simplify()).show()"
   ]
  },
  {
   "cell_type": "code",
   "execution_count": 14,
   "metadata": {},
   "outputs": [
    {
     "data": {
      "text/html": [
       "<html><script type=\"math/tex; mode=display\">\\newcommand{\\Bold}[1]{\\mathbf{#1}}2 \\, x^{3} - 4 \\, x^{2} + 4 \\, x \\arctan\\left(\\sqrt{x^{2} - 1}\\right) - 4 \\, \\sqrt{x^{2} - 1} x + 3 \\, x</script></html>"
      ],
      "text/plain": [
       "2*x^3 - 4*x^2 + 4*x*arctan(sqrt(x^2 - 1)) - 4*sqrt(x^2 - 1)*x + 3*x"
      ]
     },
     "metadata": {},
     "output_type": "display_data"
    }
   ],
   "source": [
    "assume(x>1)\n",
    "assume(x<sqrt(2))\n",
    "f_omega_r2_pdf(x) = 2*x*region_2_pdf(t=x^2)\n",
    "(f_omega_r2_pdf(x).full_simplify()).show()"
   ]
  },
  {
   "cell_type": "code",
   "execution_count": 15,
   "metadata": {},
   "outputs": [
    {
     "data": {
      "text/html": [
       "<html><script type=\"math/tex; mode=display\">\\newcommand{\\Bold}[1]{\\mathbf{#1}}{\\left(2 \\, \\pi - 1\\right)} x - 4 \\, x^{2} - 4 \\, x \\arctan\\left(\\sqrt{x^{2} - 1}\\right) + 4 \\, \\sqrt{x^{2} - 1} x</script></html>"
      ],
      "text/plain": [
       "(2*pi - 1)*x - 4*x^2 - 4*x*arctan(sqrt(x^2 - 1)) + 4*sqrt(x^2 - 1)*x"
      ]
     },
     "metadata": {},
     "output_type": "display_data"
    }
   ],
   "source": [
    "forget()\n",
    "assume(x>sqrt(2))\n",
    "assume(x<2)\n",
    "f_omega_r3_pdf(x) = 2*x*region_3_pdf(t=x^2)\n",
    "(f_omega_r3_pdf(x).full_simplify()).show()"
   ]
  },
  {
   "cell_type": "code",
   "execution_count": 16,
   "metadata": {},
   "outputs": [
    {
     "data": {
      "text/html": [
       "<html><script type=\"math/tex; mode=display\">\\newcommand{\\Bold}[1]{\\mathbf{#1}}-x^{3} - 4 \\, x \\arctan\\left(\\sqrt{x^{2} - 1}\\right) + 4 \\, x \\arctan\\left(\\frac{2}{\\sqrt{x^{2} - 4}}\\right) + 4 \\, \\sqrt{x^{2} - 1} x + 2 \\, \\sqrt{x^{2} - 4} x - 5 \\, x</script></html>"
      ],
      "text/plain": [
       "-x^3 - 4*x*arctan(sqrt(x^2 - 1)) + 4*x*arctan(2/sqrt(x^2 - 4)) + 4*sqrt(x^2 - 1)*x + 2*sqrt(x^2 - 4)*x - 5*x"
      ]
     },
     "metadata": {},
     "output_type": "display_data"
    }
   ],
   "source": [
    "forget()\n",
    "assume(x>2)\n",
    "assume(x<sqrt(5))\n",
    "f_omega_r4_pdf(x) = 2*x*region_4_pdf(t=x^2)\n",
    "(f_omega_r4_pdf(x).full_simplify()).show()"
   ]
  },
  {
   "cell_type": "markdown",
   "metadata": {},
   "source": [
    "## Plotting the Theoretical PDF"
   ]
  },
  {
   "cell_type": "code",
   "execution_count": 17,
   "metadata": {},
   "outputs": [
    {
     "data": {
      "image/png": "[encoded data removed]",
      "text/plain": [
       "Graphics object consisting of 4 graphics primitives"
      ]
     },
     "metadata": {},
     "output_type": "display_data"
    }
   ],
   "source": [
    "p = plot(f_omega_r1_pdf, (x,0,1), color = 'red', gridlines = True)\n",
    "p += plot(f_omega_r2_pdf, (x,1,sqrt(2)), color = 'blue')\n",
    "p += plot(f_omega_r3_pdf, (x,sqrt(2),2), color = 'green')\n",
    "p += plot(f_omega_r4_pdf, (x,2,sqrt(5)), color = 'purple')\n",
    "p.show()"
   ]
  },
  {
   "cell_type": "code",
   "execution_count": 32,
   "metadata": {},
   "outputs": [
    {
     "data": {
      "image/png": "[encoded data removed]",
      "text/plain": [
       "Graphics object consisting of 1 graphics primitive"
      ]
     },
     "execution_count": 32,
     "metadata": {},
     "output_type": "execute_result"
    }
   ],
   "source": [
    "f_omega = piecewise([([0,1], f_omega_r1_pdf), ((1,sqrt(2)), f_omega_r2_pdf), ([sqrt(2), 2], f_omega_r3_pdf), ((2,sqrt(5)), f_omega_r4_pdf)])\n",
    "plot(f_omega, (x,0,2.2)) #agrees with above"
   ]
  },
  {
   "cell_type": "markdown",
   "metadata": {},
   "source": [
    "# Emipirical Major-Axis Distrubution\n",
    "We generate a million random matrices and create a histogram of the resulting major axis lengths, with the theoretical curve superposed."
   ]
  },
  {
   "cell_type": "code",
   "execution_count": 18,
   "metadata": {},
   "outputs": [],
   "source": [
    "import numpy as np\n",
    "from matplotlib import pyplot as plt"
   ]
  },
  {
   "cell_type": "code",
   "execution_count": 68,
   "metadata": {},
   "outputs": [
    {
     "data": {
      "image/png": "[encoded data removed]",
      "text/plain": [
       "<Figure size 432x288 with 1 Axes>"
      ]
     },
     "metadata": {},
     "output_type": "display_data"
    }
   ],
   "source": [
    "NUM_MATRICES = 10**6\n",
    "aa = np.random.uniform(0,1, (1,NUM_MATRICES))\n",
    "bb = np.random.uniform(0,1, (1,NUM_MATRICES))\n",
    "cc = np.random.uniform(0,1, (1,NUM_MATRICES))\n",
    "dd = np.random.uniform(0,1, (1,NUM_MATRICES))\n",
    "omega = np.sqrt((aa-dd)*(aa-dd) + (bb+cc)*(bb+cc))\n",
    "#fig,ax = plt.subplots(1,1)\n",
    "n, bins, patches = plt.hist(omega.tolist(), bins=50, density = True, label = 'Empirical Density')\n",
    "y = np.array(list(map(f_omega, bins))) # https://stackoverflow.com/questions/35215161/most-efficient-way-to-map-function-over-numpy-array\n",
    "fit_curve = plt.plot(bins, y, 'r--', linewidth=3, label = 'Theoretical  Density')# https://matplotlib.org/1.2.1/examples/pylab_examples/histogram_demo.html\n",
    "plt.title('Theoretical and Empirical Major-Axis Distributions for U[0,1] Random 2x2 Matrices', fontdict = {'family':'serif', 'size':16})\n",
    "plt.legend(loc=1, prop = {'family': 'serif'}, fontsize = 'medium') #fontdict = {'family': 'serif', 'size':10}\n",
    "plt.show()"
   ]
  },
  {
   "cell_type": "code",
   "execution_count": null,
   "metadata": {},
   "outputs": [],
   "source": []
  }
 ],
 "metadata": {
  "kernelspec": {
   "display_name": "SageMath 9.0",
   "language": "sage",
   "name": "sagemath"
  },
  "language_info": {
   "codemirror_mode": {
    "name": "ipython",
    "version": 3
   },
   "file_extension": ".py",
   "mimetype": "text/x-python",
   "name": "python",
   "nbconvert_exporter": "python",
   "pygments_lexer": "ipython3",
   "version": "3.7.3"
  }
 },
 "nbformat": 4,
 "nbformat_minor": 2
}
